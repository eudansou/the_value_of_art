{
 "cells": [
  {
   "cell_type": "code",
   "execution_count": 12,
   "id": "e5f24683",
   "metadata": {},
   "outputs": [
    {
     "name": "stderr",
     "output_type": "stream",
     "text": [
      "  0%|          | 0/754 [00:00<?, ?it/s]"
     ]
    },
    {
     "name": "stderr",
     "output_type": "stream",
     "text": [
      "100%|██████████| 754/754 [00:12<00:00, 60.41it/s]"
     ]
    },
    {
     "name": "stdout",
     "output_type": "stream",
     "text": [
      "\n",
      "Processamento concluído. 754/754 imagens processadas com sucesso.\n"
     ]
    },
    {
     "name": "stderr",
     "output_type": "stream",
     "text": [
      "\n"
     ]
    }
   ],
   "source": [
    "import cv2\n",
    "import numpy as np\n",
    "import pandas as pd\n",
    "import os\n",
    "from tqdm import tqdm\n",
    "\n",
    "# Configurações\n",
    "INPUT_IMAGE_DIR = \"processed_data/artDataset_clean\"\n",
    "OUTPUT_IMAGE_DIR = \"processed_data2/artDataset_clean2\"\n",
    "CSV_PATH = \"processed_data/artDataset_clean.csv\"\n",
    "os.makedirs(OUTPUT_IMAGE_DIR, exist_ok=True)\n",
    "\n",
    "# Carregar o CSV para manter referência dos IDs\n",
    "df = pd.read_csv(CSV_PATH)\n",
    "\n",
    "\n",
    "\n",
    "def smart_artwork_crop(img_path, output_path, white_thresh=235, min_content_ratio=0.2):\n",
    "    img = cv2.imread(img_path)\n",
    "    if img is None:\n",
    "        return False\n",
    "\n",
    "    # Para molduras coloridas: converter para HSV e detectar tons claros\n",
    "    hsv = cv2.cvtColor(img, cv2.COLOR_BGR2HSV)\n",
    "    mask_hsv = cv2.inRange(hsv, (0, 0, 200), (180, 30, 255))  # Detecta brancos/bege\n",
    "\n",
    "    # 1. Análise de bordas (combina HSV e grayscale para melhor detecção)\n",
    "    gray = cv2.cvtColor(img, cv2.COLOR_BGR2GRAY)\n",
    "    _, mask_gray = cv2.threshold(gray, white_thresh, 255, cv2.THRESH_BINARY)\n",
    "\n",
    "    # Combinar máscaras HSV e grayscale\n",
    "    combined_mask = cv2.bitwise_or(mask_hsv, mask_gray)\n",
    "\n",
    "    # 2. Remover pequenos ruídos\n",
    "    kernel = np.ones((15,15), np.uint8)\n",
    "    clean_mask = cv2.morphologyEx(combined_mask, cv2.MORPH_OPEN, kernel)\n",
    "\n",
    "    # 3. Encontrar componentes conectados\n",
    "    n_labels, labels, stats, _ = cv2.connectedComponentsWithStats(clean_mask)\n",
    "\n",
    "    # 4. Identificar região central\n",
    "    content_mask = np.zeros_like(gray)\n",
    "    for i in range(1, n_labels):\n",
    "        if stats[i, cv2.CC_STAT_AREA] > (img.size * 0.05):\n",
    "            content_mask[labels == i] = 255\n",
    "\n",
    "    # 5. Encontrar bounding box\n",
    "    contours, _ = cv2.findContours(content_mask, cv2.RETR_EXTERNAL, cv2.CHAIN_APPROX_SIMPLE)\n",
    "\n",
    "    # Fallback: se não detectar nada válido, copia a imagem original\n",
    "    if not contours:\n",
    "        cv2.imwrite(output_path, img)\n",
    "        return True\n",
    "\n",
    "    main_contour = max(contours, key=cv2.contourArea)\n",
    "    x, y, w, h = cv2.boundingRect(main_contour)\n",
    "\n",
    "    # 6. Verificação de área mínima\n",
    "    if (w*h) < (img.shape[0]*img.shape[1]*min_content_ratio):\n",
    "        cv2.imwrite(output_path, img)\n",
    "        return True\n",
    "\n",
    "    # 7. Cortar com margem de segurança (2% da imagem)\n",
    "    margin = int(min(img.shape[:2]) * 0.02)\n",
    "    x = max(0, x - margin)\n",
    "    y = max(0, y - margin)\n",
    "    w = min(img.shape[1] - x, w + 2*margin)\n",
    "    h = min(img.shape[0] - y, h + 2*margin)\n",
    "\n",
    "    cropped = img[y:y+h, x:x+w]\n",
    "    cv2.imwrite(output_path, cropped)\n",
    "    return True\n",
    "\n",
    "# Processar todas as imagens com barra de progresso\n",
    "success_count = 0\n",
    "for idx, row in tqdm(df.iterrows(), total=len(df)):\n",
    "    img_filename = f\"image_{row['Unnamed: 0']+1}.png\"\n",
    "    input_path = os.path.join(INPUT_IMAGE_DIR, img_filename)\n",
    "    output_path = os.path.join(OUTPUT_IMAGE_DIR, img_filename)\n",
    "\n",
    "    if os.path.exists(input_path):\n",
    "        if smart_artwork_crop(input_path, output_path):\n",
    "            success_count += 1\n",
    "    else:\n",
    "        print(f\"Arquivo não encontrado: {input_path}\")\n",
    "\n",
    "print(f\"\\nProcessamento concluído. {success_count}/{len(df)} imagens processadas com sucesso.\")\n",
    "\n",
    "# Atualizar CSV com caminhos das novas imagens (opcional)\n",
    "df['image_clean_path'] = df['Unnamed: 0'].apply(lambda x: f\"artDataset_clean/{x}.png\")\n",
    "df.to_csv(\"processed_data2/artDataset_clean2.csv\", index=False)"
   ]
  },
  {
   "cell_type": "code",
   "execution_count": null,
   "id": "31f2cb3c",
   "metadata": {},
   "outputs": [],
   "source": []
  }
 ],
 "metadata": {
  "kernelspec": {
   "display_name": "the_value_of_art",
   "language": "python",
   "name": "python3"
  },
  "language_info": {
   "codemirror_mode": {
    "name": "ipython",
    "version": 3
   },
   "file_extension": ".py",
   "mimetype": "text/x-python",
   "name": "python",
   "nbconvert_exporter": "python",
   "pygments_lexer": "ipython3",
   "version": "3.10.6"
  }
 },
 "nbformat": 4,
 "nbformat_minor": 5
}
