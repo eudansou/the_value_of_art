{
 "cells": [
  {
   "cell_type": "code",
   "execution_count": null,
   "id": "b5a0610a",
   "metadata": {},
   "outputs": [
    {
     "name": "stderr",
     "output_type": "stream",
     "text": [
      "100%|██████████| 754/754 [00:12<00:00, 58.96it/s]"
     ]
    },
    {
     "name": "stdout",
     "output_type": "stream",
     "text": [
      "\n",
      "Processamento concluído. 754/754 imagens processadas com sucesso.\n"
     ]
    },
    {
     "name": "stderr",
     "output_type": "stream",
     "text": [
      "\n"
     ]
    }
   ],
   "source": [
    "import os\n",
    "import cv2\n",
    "import numpy as np\n",
    "import pandas as pd\n",
    "from tqdm import tqdm  # Para barra de progresso\n",
    "\n",
    "# Configurações\n",
    "INPUT_IMAGE_DIR = \"raw_data/artDataset\"\n",
    "OUTPUT_IMAGE_DIR = \"processed_data/artDataset_clean\"\n",
    "CSV_PATH = \"raw_data/artDataset.csv\"\n",
    "os.makedirs(OUTPUT_IMAGE_DIR, exist_ok=True)\n",
    "\n",
    "# Carregar o CSV para manter referência dos IDs\n",
    "df = pd.read_csv(CSV_PATH)\n",
    "\n",
    "# Função aprimorada para remoção de molduras e fundos brancos\n",
    "def remove_frame_and_background(img_path, output_path, threshold=220, margin=10):\n",
    "    try:\n",
    "        img = cv2.imread(img_path)\n",
    "        if img is None:\n",
    "            return False\n",
    "\n",
    "        gray = cv2.cvtColor(img, cv2.COLOR_BGR2GRAY)\n",
    "\n",
    "        # 1. Binarização para detectar fundos brancos\n",
    "        _, binary = cv2.threshold(gray, threshold, 255, cv2.THRESH_BINARY_INV)\n",
    "\n",
    "        # 2. Operações morfológicas para remover ruídos\n",
    "        kernel = np.ones((5, 5), np.uint8)\n",
    "        cleaned = cv2.morphologyEx(binary, cv2.MORPH_CLOSE, kernel)\n",
    "\n",
    "        # 3. Encontrar o maior contorno (obra de arte)\n",
    "        contours, _ = cv2.findContours(cleaned, cv2.RETR_EXTERNAL, cv2.CHAIN_APPROX_SIMPLE)\n",
    "        if not contours:\n",
    "            return False\n",
    "\n",
    "        largest_contour = max(contours, key=cv2.contourArea)\n",
    "        x, y, w, h = cv2.boundingRect(largest_contour)\n",
    "\n",
    "        # 4. Recortar com margem de segurança\n",
    "        cropped = img[\n",
    "            max(0, y-margin):min(img.shape[0], y+h+margin),\n",
    "            max(0, x-margin):min(img.shape[1], x+w+margin)\n",
    "        ]\n",
    "\n",
    "        cv2.imwrite(output_path, cropped)\n",
    "        return True\n",
    "\n",
    "    except Exception as e:\n",
    "        print(f\"Erro ao processar {img_path}: {str(e)}\")\n",
    "        return False\n",
    "\n",
    "# Processar todas as imagens com barra de progresso\n",
    "success_count = 0\n",
    "for idx, row in tqdm(df.iterrows(), total=len(df)):\n",
    "    img_filename = f\"image_{row['Unnamed: 0']+1}.png\"  # Assumindo formato 'ID.jpg'\n",
    "    input_path = os.path.join(INPUT_IMAGE_DIR, img_filename)\n",
    "    output_path = os.path.join(OUTPUT_IMAGE_DIR, img_filename)\n",
    "\n",
    "    if os.path.exists(input_path):\n",
    "        if remove_frame_and_background(input_path, output_path):\n",
    "            success_count += 1\n",
    "    else:\n",
    "        print(f\"Arquivo não encontrado: {input_path}\")\n",
    "\n",
    "print(f\"\\nProcessamento concluído. {success_count}/{len(df)} imagens processadas com sucesso.\")\n",
    "\n",
    "# Atualizar CSV com caminhos das novas imagens (opcional)\n",
    "df['image_clean_path'] = df['Unnamed: 0'].apply(lambda x: f\"artDataset_clean/{x}.png\")\n",
    "df.to_csv(\"processed_data/artDataset_clean.csv\", index=False)"
   ]
  },
  {
   "cell_type": "code",
   "execution_count": 3,
   "id": "894a7f1d",
   "metadata": {},
   "outputs": [
    {
     "name": "stdout",
     "output_type": "stream",
     "text": [
      "['Unnamed: 0', 'price', 'artist', 'title', 'yearCreation', 'signed', 'condition', 'period', 'movement']\n"
     ]
    }
   ],
   "source": [
    "print(df.columns.tolist())"
   ]
  }
 ],
 "metadata": {
  "kernelspec": {
   "display_name": "the_value_of_art",
   "language": "python",
   "name": "python3"
  },
  "language_info": {
   "codemirror_mode": {
    "name": "ipython",
    "version": 3
   },
   "file_extension": ".py",
   "mimetype": "text/x-python",
   "name": "python",
   "nbconvert_exporter": "python",
   "pygments_lexer": "ipython3",
   "version": "3.10.6"
  }
 },
 "nbformat": 4,
 "nbformat_minor": 5
}
